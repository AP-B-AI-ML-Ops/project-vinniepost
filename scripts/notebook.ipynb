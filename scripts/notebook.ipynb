{
 "cells": [
  {
   "cell_type": "markdown",
   "metadata": {},
   "source": [
    "# Notebook for this project"
   ]
  },
  {
   "cell_type": "markdown",
   "metadata": {},
   "source": [
    "## Training the model"
   ]
  },
  {
   "cell_type": "code",
   "execution_count": 2,
   "metadata": {},
   "outputs": [],
   "source": [
    "import logging\n",
    "from prefect import task, flow\n",
    "import pandas as pd\n",
    "from sklearn.preprocessing import StandardScaler\n",
    "from sklearn.model_selection import train_test_split\n",
    "from keras.models import Sequential\n",
    "from keras.layers import Dense, Dropout\n",
    "from keras.callbacks import EarlyStopping\n",
    "import mlflow\n",
    "import numpy as np\n",
    "\n",
    "logging.basicConfig(level=logging.INFO)"
   ]
  },
  {
   "cell_type": "code",
   "execution_count": 3,
   "metadata": {},
   "outputs": [],
   "source": [
    "def prepare_data(data):\n",
    "    X = data.drop([\"DEATH_EVENT\"], axis=1)\n",
    "    y = data[\"DEATH_EVENT\"]\n",
    "    scaler = StandardScaler()\n",
    "    X_scaled = scaler.fit_transform(X)\n",
    "    return X_scaled, y\n",
    "\n",
    "def initialise_model(input_dim: int) -> Sequential:\n",
    "    model = Sequential([\n",
    "        Dense(16, activation='relu', input_dim=input_dim),\n",
    "        Dense(8, activation='relu'),\n",
    "        Dropout(0.25),\n",
    "        Dense(4, activation='relu'),\n",
    "        Dropout(0.5),\n",
    "        Dense(1, activation='sigmoid')\n",
    "    ])\n",
    "    model.compile(optimizer='adam', loss='binary_crossentropy', metrics=['accuracy'])\n",
    "    return model\n",
    "\n",
    "def train_model(X_train, y_train, model):\n",
    "    early_stopping = EarlyStopping(min_delta=0.001, patience=20, restore_best_weights=True)\n",
    "    history = model.fit(X_train, y_train, batch_size=32, epochs=500, callbacks=[early_stopping], validation_split=0.2)\n",
    "    return history\n",
    "\n",
    "def train_model_flow(data):\n",
    "    with mlflow.start_run():\n",
    "        X_train, y_train = prepare_data(data)\n",
    "        model = initialise_model(X_train.shape[1])\n",
    "        history = train_model(X_train, y_train, model)\n",
    "        logging.info(f\"Validation Accuracy: {np.mean(history.history['val_accuracy']) * 100:.2f}%\")\n",
    "    return model\n",
    "\n",
    "train_model_flow()\n"
   ]
  }
 ],
 "metadata": {
  "kernelspec": {
   "display_name": "base",
   "language": "python",
   "name": "python3"
  },
  "language_info": {
   "codemirror_mode": {
    "name": "ipython",
    "version": 3
   },
   "file_extension": ".py",
   "mimetype": "text/x-python",
   "name": "python",
   "nbconvert_exporter": "python",
   "pygments_lexer": "ipython3",
   "version": "3.11.7"
  }
 },
 "nbformat": 4,
 "nbformat_minor": 2
}
